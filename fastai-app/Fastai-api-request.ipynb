{
 "cells": [
  {
   "cell_type": "markdown",
   "metadata": {},
   "source": [
    "Jupyter notebook to call the fastai flask api using request"
   ]
  },
  {
   "cell_type": "code",
   "execution_count": 24,
   "metadata": {},
   "outputs": [
    {
     "name": "stdout",
     "output_type": "stream",
     "text": [
      "200\n",
      "{\"CM_Url\":\"https://s3-ap-south-1.amazonaws.com/fastai-training-data/JVP0004/cm/test_jvp004_2020_08_18__19_42_cm.png\",\"Model_S3_Url\":\"https://s3-ap-south-1.amazonaws.com/fastai-training-data/JVP0004/models/test_jvp004_2020_08_18__19_42.pkl\"}\n",
      "\n"
     ]
    }
   ],
   "source": [
    "import requests\n",
    "data ={\n",
    "    \"model_name\":\"test_jvp004\",\n",
    "    \"data_path\":\"/Users/alah/jusproducts/fastai-flask-app/fastai-app/fastai-app/data/JVP004/train/\",\n",
    "    \"export_path\":\"/Users/alah/jusproducts/fastai-flask-app/fastai-app/fastai-app/exports/\",\n",
    "    \"valid_pct\":0.3,\n",
    "    \"size\":229,\n",
    "    \"to_normalize\":False,\n",
    "    \"num_epoch\":4,\n",
    "    \"bs\":4,\n",
    "    \"to_download_data\":False,\n",
    "    \"to_upload_model\":True,\n",
    "    \"bucket_name\":\"fastai-training-data\",\n",
    "    \"model_prefix\":\"JVP0004/models\",\n",
    "    \"cm_prefix\":\"JVP0004/cm\",\n",
    "    \"train_data_s3_key\":'JVP0004/cm/',\n",
    "    \"local_data_dir\":\"/Users/alah/jusproducts/fastai-flask-app/fastai-app/fastai-app/data/\"\n",
    "    }\n",
    "response = requests.post('http://127.0.0.1:5000/fastai_train', json=data) \n",
    "print(response.status_code) \n",
    "print(response.text) "
   ]
  },
  {
   "cell_type": "code",
   "execution_count": null,
   "metadata": {},
   "outputs": [],
   "source": []
  }
 ],
 "metadata": {
  "kernelspec": {
   "display_name": "jusvision37env",
   "language": "python",
   "name": "jusvision37env"
  },
  "language_info": {
   "codemirror_mode": {
    "name": "ipython",
    "version": 3
   },
   "file_extension": ".py",
   "mimetype": "text/x-python",
   "name": "python",
   "nbconvert_exporter": "python",
   "pygments_lexer": "ipython3",
   "version": "3.7.0"
  }
 },
 "nbformat": 4,
 "nbformat_minor": 2
}
